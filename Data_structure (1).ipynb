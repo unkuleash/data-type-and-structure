{
  "nbformat": 4,
  "nbformat_minor": 0,
  "metadata": {
    "colab": {
      "provenance": []
    },
    "kernelspec": {
      "name": "python3",
      "display_name": "Python 3"
    },
    "language_info": {
      "name": "python"
    }
  },
  "cells": [
    {
      "cell_type": "markdown",
      "source": [
        "1.  What are data structures, and why are they important?"
      ],
      "metadata": {
        "id": "kso9y-DyW8B3"
      }
    },
    {
      "cell_type": "code",
      "source": [
        "=> Data structure is the way of organize and store data so that it can be accessed manipulate efficiently. dta structures are string, list, sets, tuples, dictionary, array.\n"
      ],
      "metadata": {
        "id": "s9OVc8HCW-tg"
      },
      "execution_count": null,
      "outputs": []
    },
    {
      "cell_type": "markdown",
      "source": [
        "2.  Explain the difference between mutable and immutable data types with examples."
      ],
      "metadata": {
        "id": "N1GTTeLpX8F1"
      }
    },
    {
      "cell_type": "markdown",
      "source": [
        "=> In mutable data type we can change the data but in immutable data type we can not chnge the data. Mutable Data type are List, Sets, Dictionary where as immutable data types are string, tuples."
      ],
      "metadata": {
        "id": "8p7LIMNHYDtX"
      }
    },
    {
      "cell_type": "markdown",
      "source": [
        "3. What are the main differences between lists and tuples in Python?"
      ],
      "metadata": {
        "id": "tuJMHnOzZ9eZ"
      }
    },
    {
      "cell_type": "markdown",
      "source": [
        "=> In list we store the data in [] bracket where as in tuple we can store data in () bracket. List is mutable and tuple is immutable"
      ],
      "metadata": {
        "id": "1qcJgRMrZ7Jp"
      }
    },
    {
      "cell_type": "code",
      "source": [
        "4.  Describe how dictionaries store data"
      ],
      "metadata": {
        "id": "v_Gk3opzaGf9"
      },
      "execution_count": null,
      "outputs": []
    },
    {
      "cell_type": "markdown",
      "source": [
        "=> Dictionaries stores the data in the form of key values format. This key value data stored in {} bracket.  my_dict={\"key\" : \"value\"}"
      ],
      "metadata": {
        "id": "3hAl-f5kbKmR"
      }
    },
    {
      "cell_type": "markdown",
      "source": [
        "5. Why might you use a set instead of a list in Python?"
      ],
      "metadata": {
        "id": "T0vcvrsWcBFu"
      }
    },
    {
      "cell_type": "markdown",
      "source": [
        "=>Set automatically removes duplicate elements. If you need to store only unique items, a set is ideal. List allows duplicates, so you would need additional logic to filter out duplicates."
      ],
      "metadata": {
        "id": "7HeVeC8IcLEC"
      }
    },
    {
      "cell_type": "markdown",
      "source": [
        "6. What is a string in Python, and how is it different from a list?\n"
      ],
      "metadata": {
        "id": "UtmXUCQMc2Xc"
      }
    },
    {
      "cell_type": "markdown",
      "source": [
        "=> String is a sequence of character represent and manipulate data. String is immutable where as list is mutable data type.:"
      ],
      "metadata": {
        "id": "IG7hPUPjeWJA"
      }
    },
    {
      "cell_type": "markdown",
      "source": [
        "7. How do tuples ensure data integrity in Python?\n"
      ],
      "metadata": {
        "id": "RSHPKufSd0VP"
      }
    },
    {
      "cell_type": "markdown",
      "source": [
        " =>Once a tuple is created, its elements cannot be modified, added, or removed. This ensures that the data stored in a tuple remains consistent and unchanged throughout the program, reducing the risk of accidental modifications."
      ],
      "metadata": {
        "id": "PyjHEMlEege4"
      }
    },
    {
      "cell_type": "markdown",
      "source": [
        "8.  What is a hash table, and how does it relate to dictionaries in Python"
      ],
      "metadata": {
        "id": "u-7rgSQqeoH7"
      }
    },
    {
      "cell_type": "markdown",
      "source": [
        "=> A hash table is a data structure that maps keys to values using a hash function. In dictinary data store in the key value format just like hash table."
      ],
      "metadata": {
        "id": "u_YwwmPFe0Vf"
      }
    },
    {
      "cell_type": "markdown",
      "source": [
        "9.  Can lists contain different data types in Python?"
      ],
      "metadata": {
        "id": "xXh0Zqwtffy6"
      }
    },
    {
      "cell_type": "markdown",
      "source": [
        "=> Yes, in Python, lists can contain elements of different data types. Python lists are highly flexible and can store a mix of integers, floats, strings, booleans, other lists, dictionaries."
      ],
      "metadata": {
        "id": "OcAuYBesfwsH"
      }
    },
    {
      "cell_type": "markdown",
      "source": [
        "10. Explain why strings are immutable in Python."
      ],
      "metadata": {
        "id": "yUyzekL_f10p"
      }
    },
    {
      "cell_type": "markdown",
      "source": [
        "=> In Python, strings are immutable, meaning once a string is created, it cannot be changed. Python uses a technique called string interning, where identical strings are stored only once in memory. This reduces memory usage and speeds up string operations. If strings were mutable, modifying one would inadvertently affect all references to that string, breaking this optimization."
      ],
      "metadata": {
        "id": "qJKfGXJ6f7aK"
      }
    },
    {
      "cell_type": "markdown",
      "source": [
        "11.  What advantages do dictionaries offer over lists for certain tasks?"
      ],
      "metadata": {
        "id": "udWRvpLLggd9"
      }
    },
    {
      "cell_type": "markdown",
      "source": [
        "=>Dictionaries use a hash table for key-value storage, enabling O(1) average time complexity for lookups by key.\n",
        "Lists, on the other hand, require O(n) time for searching an element since they rely on sequential access."
      ],
      "metadata": {
        "id": "eF9jo2DTgp4B"
      }
    },
    {
      "cell_type": "markdown",
      "source": [
        "12. Describe a scenario where using a tuple would be preferable over a list."
      ],
      "metadata": {
        "id": "wMf7Fph3hhY_"
      }
    },
    {
      "cell_type": "markdown",
      "source": [
        "=>  A tuple is immutable, meaning its contents cannot be changed after creation, while a list is mutable and allows modifications. Here’s a scenario where using a tuple is preferable in Adhar card number. In this case, the coordinates are fixed and should not be modified. Using a tuple ensures data integrity by preventing accidental changes. If you attempt to modify the tuple, Python will raise a TypeError."
      ],
      "metadata": {
        "id": "o_jRkaaChpX9"
      }
    },
    {
      "cell_type": "markdown",
      "source": [
        "13.  How do sets handle duplicate values in Python?"
      ],
      "metadata": {
        "id": "5glKuWlcihBc"
      }
    },
    {
      "cell_type": "markdown",
      "source": [
        "=> In Python, sets are a built-in data structure that automatically handle duplicate values by eliminating them. Sets are unordered collections of unique elements, meaning that if you try to add duplicate values to a set, only one instance of each value will be retained."
      ],
      "metadata": {
        "id": "MsZnUsU3ir13"
      }
    },
    {
      "cell_type": "markdown",
      "source": [
        "14. How does the “in” keyword work differently for lists and dictionaries?"
      ],
      "metadata": {
        "id": "kmneCM22jAE6"
      }
    },
    {
      "cell_type": "markdown",
      "source": [
        "=> The in keyword in Python is used to check for membership, but its behavior differs slightly depending on whether you're working with lists or dictionaries:\n",
        " For List in keyword checks if a specific value exists in the list.\n",
        "It performs a linear search, meaning it checks each element one by one until it finds a match or reaches the end of the list. For Dictionaries in keyword checks if a specific key exists in the dictionary (not the value).\n",
        "It is highly efficient because dictionaries use a hash table for key lookups."
      ],
      "metadata": {
        "id": "R1zWqBqmjd5u"
      }
    },
    {
      "cell_type": "markdown",
      "source": [
        "15. Can you modify the elements of a tuple? Explain why or why not."
      ],
      "metadata": {
        "id": "VDNs5dWskIC2"
      }
    },
    {
      "cell_type": "markdown",
      "source": [
        "=> Tuples in Python are immutable, meaning their elements cannot be changed directly. However, you can create a new tuple with the desired changes."
      ],
      "metadata": {
        "id": "Ds1E3erPkQmd"
      }
    },
    {
      "cell_type": "markdown",
      "source": [
        "16. What is a nested dictionary, and give an example of its use case?"
      ],
      "metadata": {
        "id": "VHfi2lS0k1OB"
      }
    },
    {
      "cell_type": "markdown",
      "source": [
        "=> A nested dictionary in Python is a dictionary within another dictionary. It allows you to store and organize data hierarchically, making it useful for representing complex structures. Example Use Case: Student Grades Management."
      ],
      "metadata": {
        "id": "PJ9e8lkVmJBy"
      }
    },
    {
      "cell_type": "markdown",
      "source": [
        "17. Describe the time complexity of accessing elements in a dictionary."
      ],
      "metadata": {
        "id": "_D6Z-LYFmcuF"
      }
    },
    {
      "cell_type": "markdown",
      "source": [
        "=> Accessing elements in a dictionary in Python has an average time complexity of O(1) (constant time). This is because Python dictionaries are implemented as hash tables, which allow for efficient lookups by computing a hash value for the key and directly accessing the corresponding value."
      ],
      "metadata": {
        "id": "k6_uuYYnmiOz"
      }
    },
    {
      "cell_type": "markdown",
      "source": [
        "18.  In what situations are lists preferred over dictionaries?"
      ],
      "metadata": {
        "id": "oOmbth9ym2ya"
      }
    },
    {
      "cell_type": "markdown",
      "source": [
        "=> Lists: Use lists when the order of elements is important, when you need to access elements using numerical indices, or when duplicate values are allowed. Lists are ideal for scenarios where you need to maintain a sequence of elements and perform operations like sorting or slicing.\n",
        "\n",
        "Dictionaries: Use dictionaries when you need to store data in key-value pairs, perform fast lookups, or ensure that keys are unique. Dictionaries are suitable for scenarios where you need to map unique keys to values, such as storing user information or configuration settings."
      ],
      "metadata": {
        "id": "tVuWt7nCm_Ps"
      }
    },
    {
      "cell_type": "markdown",
      "source": [
        "19.  Why are dictionaries considered unordered, and how does that affect data retrieval?"
      ],
      "metadata": {
        "id": "dGF2ldnxpQcK"
      }
    },
    {
      "cell_type": "markdown",
      "source": [
        "=> Dictionaries in Python are often referred to as unordered collections because they do not guarantee any specific order of their elements based on insertion or key values.  Unlike lists or tuples, dictionaries do not allow access by index. Instead, you retrieve values using their associated keys"
      ],
      "metadata": {
        "id": "I5LdwFyuqAMr"
      }
    },
    {
      "cell_type": "markdown",
      "source": [
        "20.  Explain the difference between a list and a dictionary in terms of data retrieval."
      ],
      "metadata": {
        "id": "dDfb0FHQqZ3g"
      }
    },
    {
      "cell_type": "markdown",
      "source": [],
      "metadata": {
        "id": "jVhF0CldGuIb"
      }
    },
    {
      "cell_type": "markdown",
      "source": [
        "** Practical Questions**"
      ],
      "metadata": {
        "id": "_tCjx-MjGtb9"
      }
    },
    {
      "cell_type": "markdown",
      "source": [
        "1.  Write a code to create a string with your name and print it"
      ],
      "metadata": {
        "id": "ja-_t-f8HOO4"
      }
    },
    {
      "cell_type": "code",
      "source": [
        "Name= \"Aishwarya\"\n",
        "print(\"My name is\", Name)"
      ],
      "metadata": {
        "colab": {
          "base_uri": "https://localhost:8080/"
        },
        "id": "NkJcY4PBHSQ8",
        "outputId": "96fdb46d-20f1-4936-bdcf-89822124fd64"
      },
      "execution_count": 2,
      "outputs": [
        {
          "output_type": "stream",
          "name": "stdout",
          "text": [
            "My name is Aishwarya\n"
          ]
        }
      ]
    },
    {
      "cell_type": "markdown",
      "source": [
        "2.  Write a code to find the length of the string \"Hello World\""
      ],
      "metadata": {
        "id": "WrYwA7coHtrM"
      }
    },
    {
      "cell_type": "code",
      "source": [
        "Code=\"Hello World\"\n",
        "len(Code)"
      ],
      "metadata": {
        "colab": {
          "base_uri": "https://localhost:8080/"
        },
        "id": "7BnzUU9YHzxG",
        "outputId": "1b371c08-6efd-4f71-ef52-a0f332d92249"
      },
      "execution_count": 3,
      "outputs": [
        {
          "output_type": "execute_result",
          "data": {
            "text/plain": [
              "11"
            ]
          },
          "metadata": {},
          "execution_count": 3
        }
      ]
    },
    {
      "cell_type": "markdown",
      "source": [
        "3. Write a code to slice the first 3 characters from the string \"Python Programming\""
      ],
      "metadata": {
        "id": "2HSArrBzIFxw"
      }
    },
    {
      "cell_type": "code",
      "source": [
        "x= \"Python Programming\"\n",
        "x[:3]"
      ],
      "metadata": {
        "colab": {
          "base_uri": "https://localhost:8080/",
          "height": 35
        },
        "id": "I_HhvX9WILZS",
        "outputId": "0a0d0e0a-41ee-4fe9-ccc0-13ecb7b5ba96"
      },
      "execution_count": 5,
      "outputs": [
        {
          "output_type": "execute_result",
          "data": {
            "text/plain": [
              "'Pyt'"
            ],
            "application/vnd.google.colaboratory.intrinsic+json": {
              "type": "string"
            }
          },
          "metadata": {},
          "execution_count": 5
        }
      ]
    },
    {
      "cell_type": "markdown",
      "source": [
        "4. Write a code to convert the string \"hello\" to uppercase"
      ],
      "metadata": {
        "id": "bNo1nsnJI5F9"
      }
    },
    {
      "cell_type": "code",
      "source": [
        "x=\"hello\"\n",
        "x.swapcase()"
      ],
      "metadata": {
        "colab": {
          "base_uri": "https://localhost:8080/",
          "height": 35
        },
        "id": "hKuKK6EiJAS-",
        "outputId": "a3849e5f-6cc1-4f63-8a06-841ade9a4f20"
      },
      "execution_count": 6,
      "outputs": [
        {
          "output_type": "execute_result",
          "data": {
            "text/plain": [
              "'HELLO'"
            ],
            "application/vnd.google.colaboratory.intrinsic+json": {
              "type": "string"
            }
          },
          "metadata": {},
          "execution_count": 6
        }
      ]
    },
    {
      "cell_type": "markdown",
      "source": [
        "5. Write a code to replace the word \"apple\" with \"orange\" in the string \"I like apple\""
      ],
      "metadata": {
        "id": "CxRLT6dFJ8t_"
      }
    },
    {
      "cell_type": "code",
      "source": [
        "x=\"I like apple\"\n",
        "x.replace(\"apple\", \"orange\")"
      ],
      "metadata": {
        "colab": {
          "base_uri": "https://localhost:8080/",
          "height": 35
        },
        "id": "T5eAnTtOKlBe",
        "outputId": "c02e1aaf-eefb-49c5-d642-09f7a18a4854"
      },
      "execution_count": 7,
      "outputs": [
        {
          "output_type": "execute_result",
          "data": {
            "text/plain": [
              "'I like orange'"
            ],
            "application/vnd.google.colaboratory.intrinsic+json": {
              "type": "string"
            }
          },
          "metadata": {},
          "execution_count": 7
        }
      ]
    },
    {
      "cell_type": "markdown",
      "source": [
        "6. Write a code to create a list with numbers 1 to 5 and print it."
      ],
      "metadata": {
        "id": "D7eqyI9JK1dC"
      }
    },
    {
      "cell_type": "code",
      "source": [
        "a=[1,2,3,4,5]\n",
        "print(a)"
      ],
      "metadata": {
        "colab": {
          "base_uri": "https://localhost:8080/"
        },
        "id": "mEzFlHsaK9PF",
        "outputId": "484bf7ac-f8af-4d15-ca50-7ae449ffde42"
      },
      "execution_count": 9,
      "outputs": [
        {
          "output_type": "stream",
          "name": "stdout",
          "text": [
            "[1, 2, 3, 4, 5]\n"
          ]
        }
      ]
    },
    {
      "cell_type": "markdown",
      "source": [
        "7. Write a code to append the number 10 to the list [1, 2, 3, 4]"
      ],
      "metadata": {
        "id": "mxaGgrPtMDo5"
      }
    },
    {
      "cell_type": "code",
      "source": [
        "a=[1, 2, 3, 4]\n",
        "a.append(10)\n",
        "a"
      ],
      "metadata": {
        "colab": {
          "base_uri": "https://localhost:8080/"
        },
        "id": "jwsDZRh6MIbR",
        "outputId": "744c39cb-18a1-41ad-c46b-97f20086769e"
      },
      "execution_count": 12,
      "outputs": [
        {
          "output_type": "execute_result",
          "data": {
            "text/plain": [
              "[1, 2, 3, 4, 10]"
            ]
          },
          "metadata": {},
          "execution_count": 12
        }
      ]
    },
    {
      "cell_type": "markdown",
      "source": [
        "8.  Write a code to remove the number 3 from the list [1, 2, 3, 4, 5]"
      ],
      "metadata": {
        "id": "i4ATVx9TMSyF"
      }
    },
    {
      "cell_type": "code",
      "source": [
        "a=[1,2,3,4,5]\n",
        "a.remove(3)\n",
        "a"
      ],
      "metadata": {
        "colab": {
          "base_uri": "https://localhost:8080/"
        },
        "id": "uLZmbSZbMY9k",
        "outputId": "7674b03c-3699-4074-aba3-de65c1747260"
      },
      "execution_count": 13,
      "outputs": [
        {
          "output_type": "execute_result",
          "data": {
            "text/plain": [
              "[1, 2, 4, 5]"
            ]
          },
          "metadata": {},
          "execution_count": 13
        }
      ]
    },
    {
      "cell_type": "markdown",
      "source": [
        "9.  Write a code to access the second element in the list ['a', 'b', 'c', 'd']"
      ],
      "metadata": {
        "id": "Aszf5DLKMrsY"
      }
    },
    {
      "cell_type": "code",
      "source": [
        "x=['a', 'b', 'c', 'd']\n",
        "x[1]"
      ],
      "metadata": {
        "colab": {
          "base_uri": "https://localhost:8080/",
          "height": 35
        },
        "id": "N7OMQeLNM6AJ",
        "outputId": "1e6f65df-5f26-4c9e-ba0b-8d22c7f35e9b"
      },
      "execution_count": 16,
      "outputs": [
        {
          "output_type": "execute_result",
          "data": {
            "text/plain": [
              "'b'"
            ],
            "application/vnd.google.colaboratory.intrinsic+json": {
              "type": "string"
            }
          },
          "metadata": {},
          "execution_count": 16
        }
      ]
    },
    {
      "cell_type": "markdown",
      "source": [
        "10.  Write a code to reverse the list [10, 20, 30, 40, 50]."
      ],
      "metadata": {
        "id": "MURWct08NYGp"
      }
    },
    {
      "cell_type": "code",
      "source": [
        "x=[10, 20, 30, 40, 50]\n",
        "x.reverse()\n",
        "x"
      ],
      "metadata": {
        "colab": {
          "base_uri": "https://localhost:8080/"
        },
        "id": "L3dU04a-ODYW",
        "outputId": "000d55a5-20d5-4437-dc8a-f22a57c8faea"
      },
      "execution_count": 18,
      "outputs": [
        {
          "output_type": "execute_result",
          "data": {
            "text/plain": [
              "[50, 40, 30, 20, 10]"
            ]
          },
          "metadata": {},
          "execution_count": 18
        }
      ]
    },
    {
      "cell_type": "markdown",
      "source": [
        "11.  Write a code to create a tuple with the elements 100, 200, 300 and print it"
      ],
      "metadata": {
        "id": "3cUrhnbnOOPW"
      }
    },
    {
      "cell_type": "code",
      "source": [
        "x=(100,200,300)\n",
        "print(x)"
      ],
      "metadata": {
        "colab": {
          "base_uri": "https://localhost:8080/"
        },
        "id": "_OJlfiwvOhia",
        "outputId": "b5a5d894-4224-4135-9a2a-9e7ac66dca54"
      },
      "execution_count": 19,
      "outputs": [
        {
          "output_type": "stream",
          "name": "stdout",
          "text": [
            "(100, 200, 300)\n"
          ]
        }
      ]
    },
    {
      "cell_type": "markdown",
      "source": [
        "12. Write a code to access the second-to-last element of the tuple ('red', 'green', 'blue', 'yellow')"
      ],
      "metadata": {
        "id": "ayiaAstbOpLO"
      }
    },
    {
      "cell_type": "code",
      "source": [
        "x=('red', 'green', 'blue', 'yellow')\n",
        "x[-2]"
      ],
      "metadata": {
        "colab": {
          "base_uri": "https://localhost:8080/",
          "height": 35
        },
        "id": "PuGWTl2POy7-",
        "outputId": "29b49275-37a8-4337-881e-cc7d9672f16e"
      },
      "execution_count": 22,
      "outputs": [
        {
          "output_type": "execute_result",
          "data": {
            "text/plain": [
              "'blue'"
            ],
            "application/vnd.google.colaboratory.intrinsic+json": {
              "type": "string"
            }
          },
          "metadata": {},
          "execution_count": 22
        }
      ]
    },
    {
      "cell_type": "markdown",
      "source": [
        "13. Write a code to find the minimum number in the tuple (10, 20, 5, 15)"
      ],
      "metadata": {
        "id": "JmAaKY1-PdI-"
      }
    },
    {
      "cell_type": "code",
      "source": [
        "x= (10, 20, 5, 15)\n",
        "min(x)"
      ],
      "metadata": {
        "colab": {
          "base_uri": "https://localhost:8080/"
        },
        "id": "67tAueJ4Pp3A",
        "outputId": "43b8179c-fd8d-46c2-fb19-ef2602645c3d"
      },
      "execution_count": 23,
      "outputs": [
        {
          "output_type": "execute_result",
          "data": {
            "text/plain": [
              "5"
            ]
          },
          "metadata": {},
          "execution_count": 23
        }
      ]
    },
    {
      "cell_type": "markdown",
      "source": [
        "14.  Write a code to find the index of the element \"cat\" in the tuple ('dog', 'cat', 'rabbit')"
      ],
      "metadata": {
        "id": "l_KgCSIsQ3ib"
      }
    },
    {
      "cell_type": "code",
      "source": [
        "Animals=('dog', 'cat', 'rabbit')\n",
        "Animals.index('cat')\n"
      ],
      "metadata": {
        "colab": {
          "base_uri": "https://localhost:8080/"
        },
        "id": "M_Rqb6zNQ99O",
        "outputId": "8ee97cec-1a29-49d5-f690-491bddf11bc3"
      },
      "execution_count": 24,
      "outputs": [
        {
          "output_type": "execute_result",
          "data": {
            "text/plain": [
              "1"
            ]
          },
          "metadata": {},
          "execution_count": 24
        }
      ]
    },
    {
      "cell_type": "markdown",
      "source": [
        "15.  Write a code to create a tuple containing three different fruits and check if \"kiwi\" is in it."
      ],
      "metadata": {
        "id": "FE7hGDsCSJ-B"
      }
    },
    {
      "cell_type": "code",
      "source": [
        "fruits=(\"apple\", \"orange\", \"banana\")\n",
        "if \"kiwi\" in fruits:\n",
        "    print(\"Kiwi is in the tuple.\")\n",
        "else:\n",
        "    print(\"Kiwi is not in the tuple.\")"
      ],
      "metadata": {
        "colab": {
          "base_uri": "https://localhost:8080/"
        },
        "id": "Oe2KUl43SSYt",
        "outputId": "d0b846c3-f712-4ced-849c-60b5e29a1492"
      },
      "execution_count": 25,
      "outputs": [
        {
          "output_type": "stream",
          "name": "stdout",
          "text": [
            "Kiwi is not in the tuple.\n"
          ]
        }
      ]
    },
    {
      "cell_type": "markdown",
      "source": [
        "16.  Write a code to create a set with the elements 'a', 'b', 'c' and print it."
      ],
      "metadata": {
        "id": "P2czs4RQTUEQ"
      }
    },
    {
      "cell_type": "code",
      "source": [
        "set={'a','b','c'}\n",
        "print(set)"
      ],
      "metadata": {
        "colab": {
          "base_uri": "https://localhost:8080/"
        },
        "id": "j-jMSzKqTbCZ",
        "outputId": "1bf3739f-5b02-49de-c586-e2ad884c771f"
      },
      "execution_count": 26,
      "outputs": [
        {
          "output_type": "stream",
          "name": "stdout",
          "text": [
            "{'c', 'a', 'b'}\n"
          ]
        }
      ]
    },
    {
      "cell_type": "markdown",
      "source": [
        "17. Write a code to clear all elements from the set {1, 2, 3, 4, 5}"
      ],
      "metadata": {
        "id": "O_Hh5mj4TwY1"
      }
    },
    {
      "cell_type": "code",
      "source": [
        "x= {1, 2, 3, 4, 5}\n",
        "x.clear()\n",
        "x"
      ],
      "metadata": {
        "colab": {
          "base_uri": "https://localhost:8080/"
        },
        "id": "AQaMi_IbTz_A",
        "outputId": "ad8f8cef-00a1-4969-acd6-91dd7910bee3"
      },
      "execution_count": 27,
      "outputs": [
        {
          "output_type": "execute_result",
          "data": {
            "text/plain": [
              "set()"
            ]
          },
          "metadata": {},
          "execution_count": 27
        }
      ]
    },
    {
      "cell_type": "markdown",
      "source": [
        "18.  Write a code to remove the element 4 from the set {1, 2, 3, 4}"
      ],
      "metadata": {
        "id": "yxVTD7eDUDpa"
      }
    },
    {
      "cell_type": "code",
      "source": [
        "x={1, 2, 3, 4}\n",
        "x.remove(4)\n",
        "x"
      ],
      "metadata": {
        "colab": {
          "base_uri": "https://localhost:8080/"
        },
        "id": "g2p5LPjkUIN5",
        "outputId": "a9d6a207-fa69-4cda-93c9-08de23c24bbf"
      },
      "execution_count": 28,
      "outputs": [
        {
          "output_type": "execute_result",
          "data": {
            "text/plain": [
              "{1, 2, 3}"
            ]
          },
          "metadata": {},
          "execution_count": 28
        }
      ]
    },
    {
      "cell_type": "markdown",
      "source": [
        "19. Write a code to find the union of two sets {1, 2, 3} and {3, 4, 5}."
      ],
      "metadata": {
        "id": "kbgCn-nZUSiK"
      }
    },
    {
      "cell_type": "code",
      "source": [
        "s1={1, 2, 3}\n",
        "s2={3, 4, 5}\n",
        "s1.union(s2)"
      ],
      "metadata": {
        "colab": {
          "base_uri": "https://localhost:8080/"
        },
        "id": "ZLzG9thXUbSj",
        "outputId": "6e70785f-cd3f-4a2c-f7f0-1df0a0d07874"
      },
      "execution_count": 29,
      "outputs": [
        {
          "output_type": "execute_result",
          "data": {
            "text/plain": [
              "{1, 2, 3, 4, 5}"
            ]
          },
          "metadata": {},
          "execution_count": 29
        }
      ]
    },
    {
      "cell_type": "markdown",
      "source": [
        "20.  Write a code to find the intersection of two sets {1, 2, 3} and {2, 3, 4}."
      ],
      "metadata": {
        "id": "HeZGHkA1Up5k"
      }
    },
    {
      "cell_type": "code",
      "source": [
        "s1={1, 2, 3}\n",
        "s2={2, 3, 4}\n",
        "s1.intersection(s2)"
      ],
      "metadata": {
        "colab": {
          "base_uri": "https://localhost:8080/"
        },
        "id": "sYwFJUOxUxXx",
        "outputId": "c78d0848-bde7-42ce-e785-fa61dbbec682"
      },
      "execution_count": 30,
      "outputs": [
        {
          "output_type": "execute_result",
          "data": {
            "text/plain": [
              "{2, 3}"
            ]
          },
          "metadata": {},
          "execution_count": 30
        }
      ]
    },
    {
      "cell_type": "markdown",
      "source": [
        "21. Write a code to create a dictionary with the keys \"name\", \"age\", and \"city\", and print it."
      ],
      "metadata": {
        "id": "iijw7mr3VC4S"
      }
    },
    {
      "cell_type": "code",
      "source": [
        "x={\"name\": \"Aishwarya\", \"age\": \"32\", \"city\":\"Pune\",}\n",
        "print(x)"
      ],
      "metadata": {
        "colab": {
          "base_uri": "https://localhost:8080/"
        },
        "id": "L2HpEV2XVJvL",
        "outputId": "011b5f4b-e402-4c84-8842-6a8a8ad9df37"
      },
      "execution_count": 31,
      "outputs": [
        {
          "output_type": "stream",
          "name": "stdout",
          "text": [
            "{'name': 'Aishwarya', 'age': '32', 'city': 'Pune'}\n"
          ]
        }
      ]
    },
    {
      "cell_type": "markdown",
      "source": [
        "22.  Write a code to add a new key-value pair \"country\": \"USA\" to the dictionary {'name': 'John', 'age': 25}"
      ],
      "metadata": {
        "id": "FI4Puiy4Vjy0"
      }
    },
    {
      "cell_type": "code",
      "source": [
        "dictionary= {'name': 'John', 'age': 25}\n",
        "dictionary[\"country\"]=\"USA\"\n",
        "print(dictionary)"
      ],
      "metadata": {
        "colab": {
          "base_uri": "https://localhost:8080/"
        },
        "id": "gZ6aTUCwWyhI",
        "outputId": "55c26998-dd5a-4149-fd07-11acaa9d1509"
      },
      "execution_count": 34,
      "outputs": [
        {
          "output_type": "stream",
          "name": "stdout",
          "text": [
            "{'name': 'John', 'age': 25, 'country': 'USA'}\n"
          ]
        }
      ]
    },
    {
      "cell_type": "markdown",
      "source": [
        "23.  Write a code to access the value associated with the key \"name\" in the dictionary {'name': 'Alice', 'age': 30}."
      ],
      "metadata": {
        "id": "EIcTZQDHVu9N"
      }
    },
    {
      "cell_type": "code",
      "source": [
        "x= {'name': 'Alice', 'age': 30}\n",
        "x[\"name\"]"
      ],
      "metadata": {
        "colab": {
          "base_uri": "https://localhost:8080/",
          "height": 35
        },
        "id": "4swk8Tu7X-zh",
        "outputId": "fa41e34c-739d-432a-d1e9-b672a7158d47"
      },
      "execution_count": 35,
      "outputs": [
        {
          "output_type": "execute_result",
          "data": {
            "text/plain": [
              "'Alice'"
            ],
            "application/vnd.google.colaboratory.intrinsic+json": {
              "type": "string"
            }
          },
          "metadata": {},
          "execution_count": 35
        }
      ]
    },
    {
      "cell_type": "markdown",
      "source": [
        "24. Write a code to remove the key \"age\" from the dictionary {'name': 'Bob', 'age': 22, 'city': 'New York'}."
      ],
      "metadata": {
        "id": "8wScA_QXVjdx"
      }
    },
    {
      "cell_type": "code",
      "source": [
        "x= {'name': 'Bob', 'age': 22, 'city': 'New York'}\n",
        "x.pop('age')\n",
        "x\n"
      ],
      "metadata": {
        "colab": {
          "base_uri": "https://localhost:8080/"
        },
        "id": "tJOno9msYlvJ",
        "outputId": "2ebaf15d-5f1b-44e3-d2f1-3734fed426de"
      },
      "execution_count": 36,
      "outputs": [
        {
          "output_type": "execute_result",
          "data": {
            "text/plain": [
              "{'name': 'Bob', 'city': 'New York'}"
            ]
          },
          "metadata": {},
          "execution_count": 36
        }
      ]
    },
    {
      "cell_type": "markdown",
      "source": [
        "25.  Write a code to check if the key \"city\" exists in the dictionary {'name': 'Alice', 'city': 'Paris'}\n"
      ],
      "metadata": {
        "id": "KViRxy5kZZjm"
      }
    },
    {
      "cell_type": "code",
      "source": [
        "x = {'name': 'Alice', 'city': 'Paris'}\n",
        "\n",
        "if 'city' in x:\n",
        "    print(\"Key 'city' exists in the dictionary.\")\n",
        "else:\n",
        "    print(\"Key 'city' does not exist in the dictionary.\")\n"
      ],
      "metadata": {
        "colab": {
          "base_uri": "https://localhost:8080/"
        },
        "id": "XVZviexxZgOy",
        "outputId": "2272ea94-322b-4517-eb04-46f7b516f314"
      },
      "execution_count": 45,
      "outputs": [
        {
          "output_type": "stream",
          "name": "stdout",
          "text": [
            "Key 'city' exists in the dictionary.\n"
          ]
        }
      ]
    },
    {
      "cell_type": "markdown",
      "source": [
        "26. Write a code to create a list, a tuple, and a dictionary, and print them all"
      ],
      "metadata": {
        "id": "GCdezlB2crVG"
      }
    },
    {
      "cell_type": "code",
      "source": [
        "# Creating a list\n",
        "my_list = [1, 2, 3, 4, 5]\n",
        "\n",
        "# Creating a tuple\n",
        "my_tuple = ('apple', 'banana', 'cherry')\n",
        "\n",
        "# Creating a dictionary\n",
        "my_dict = {\n",
        "    'name': 'Aishwarya',\n",
        "    'age': 32,\n",
        "    'city': 'Pune'\n",
        "}\n",
        "\n",
        "# Printing the data structures\n",
        "print(\"List:\", my_list)\n",
        "print(\"Tuple:\", my_tuple)\n",
        "print(\"Dictionary:\", my_dict)\n"
      ],
      "metadata": {
        "colab": {
          "base_uri": "https://localhost:8080/"
        },
        "id": "WMpH4YxpczvF",
        "outputId": "6a49680b-cf4c-460b-e94c-8ee05dd63375"
      },
      "execution_count": 46,
      "outputs": [
        {
          "output_type": "stream",
          "name": "stdout",
          "text": [
            "List: [1, 2, 3, 4, 5]\n",
            "Tuple: ('apple', 'banana', 'cherry')\n",
            "Dictionary: {'name': 'Aishwarya', 'age': 32, 'city': 'Pune'}\n"
          ]
        }
      ]
    },
    {
      "cell_type": "markdown",
      "source": [
        "27. Write a code to create a list of 5 random numbers between 1 and 100, sort it in ascending order, and print the result."
      ],
      "metadata": {
        "id": "V8BSnBnjdPRN"
      }
    },
    {
      "cell_type": "code",
      "source": [
        "x= [27, 6, 59, 93, 37]\n",
        "x.sort()\n",
        "x"
      ],
      "metadata": {
        "colab": {
          "base_uri": "https://localhost:8080/"
        },
        "id": "AyNDWqUldg1m",
        "outputId": "94d821cc-8a4c-442c-91b1-44b625f4ad08"
      },
      "execution_count": 48,
      "outputs": [
        {
          "output_type": "execute_result",
          "data": {
            "text/plain": [
              "[6, 27, 37, 59, 93]"
            ]
          },
          "metadata": {},
          "execution_count": 48
        }
      ]
    },
    {
      "cell_type": "code",
      "source": [
        "28. Write a code to create a list with strings and print the element at the third index"
      ],
      "metadata": {
        "id": "i-QZbhPUedUy"
      },
      "execution_count": null,
      "outputs": []
    },
    {
      "cell_type": "code",
      "source": [
        "x= [\"apple\", \"banana\", \"cherry\", \"date\", \"elderberry\"]\n",
        "\n",
        "# Prin_ting the element at the third index\n",
        "print(x[3])\n",
        "\n"
      ],
      "metadata": {
        "colab": {
          "base_uri": "https://localhost:8080/"
        },
        "id": "IEGgIMxBfB9X",
        "outputId": "0fa8e5c4-043a-42b3-c653-1cc8278329b1"
      },
      "execution_count": 49,
      "outputs": [
        {
          "output_type": "stream",
          "name": "stdout",
          "text": [
            "date\n"
          ]
        }
      ]
    },
    {
      "cell_type": "markdown",
      "source": [
        "29. Write a code to combine two dictionaries into one and print the result"
      ],
      "metadata": {
        "id": "3snDS7RKf3GH"
      }
    },
    {
      "cell_type": "code",
      "source": [
        "s1={\"name\":\"Aishwarya\", \"Age\":\"32\"}\n",
        "s2={\"city\":\"pune\"}\n",
        "combine_dictionary={**s1, **s2}\n",
        "print(\"combined dictionary:\", combine_dictionary)\n"
      ],
      "metadata": {
        "colab": {
          "base_uri": "https://localhost:8080/"
        },
        "id": "eWVjhHc3f9YM",
        "outputId": "06c1729a-b6de-4eab-d2ec-0a0cad79d0f8"
      },
      "execution_count": 53,
      "outputs": [
        {
          "output_type": "stream",
          "name": "stdout",
          "text": [
            "combined dictionary: {'name': 'Aishwarya', 'Age': '32', 'city': 'pune'}\n"
          ]
        }
      ]
    },
    {
      "cell_type": "markdown",
      "source": [
        "30.  Write a code to convert a list of strings into a set"
      ],
      "metadata": {
        "id": "0x8RzQ37jMz_"
      }
    },
    {
      "cell_type": "code",
      "source": [
        "x=[\"ornage\", \"mango\", \"apple\", \"cherry\"]\n",
        "string_set=set(x)\n",
        "print(string_set)"
      ],
      "metadata": {
        "colab": {
          "base_uri": "https://localhost:8080/",
          "height": 176
        },
        "id": "gi65stMzpf1v",
        "outputId": "fd4b20c6-59ad-4d70-b3ca-b7d8f024cb31"
      },
      "execution_count": 73,
      "outputs": [
        {
          "output_type": "error",
          "ename": "TypeError",
          "evalue": "'set' object is not callable",
          "traceback": [
            "\u001b[0;31m---------------------------------------------------------------------------\u001b[0m",
            "\u001b[0;31mTypeError\u001b[0m                                 Traceback (most recent call last)",
            "\u001b[0;32m/tmp/ipython-input-73-204407556.py\u001b[0m in \u001b[0;36m<cell line: 0>\u001b[0;34m()\u001b[0m\n\u001b[1;32m      1\u001b[0m \u001b[0mx\u001b[0m\u001b[0;34m=\u001b[0m\u001b[0;34m[\u001b[0m\u001b[0;34m\"ornage\"\u001b[0m\u001b[0;34m,\u001b[0m \u001b[0;34m\"mango\"\u001b[0m\u001b[0;34m,\u001b[0m \u001b[0;34m\"apple\"\u001b[0m\u001b[0;34m,\u001b[0m \u001b[0;34m\"cherry\"\u001b[0m\u001b[0;34m]\u001b[0m\u001b[0;34m\u001b[0m\u001b[0;34m\u001b[0m\u001b[0m\n\u001b[0;32m----> 2\u001b[0;31m \u001b[0mstring_set\u001b[0m\u001b[0;34m=\u001b[0m\u001b[0mset\u001b[0m\u001b[0;34m(\u001b[0m\u001b[0mx\u001b[0m\u001b[0;34m)\u001b[0m\u001b[0;34m\u001b[0m\u001b[0;34m\u001b[0m\u001b[0m\n\u001b[0m\u001b[1;32m      3\u001b[0m \u001b[0mprint\u001b[0m\u001b[0;34m(\u001b[0m\u001b[0mstring_set\u001b[0m\u001b[0;34m)\u001b[0m\u001b[0;34m\u001b[0m\u001b[0;34m\u001b[0m\u001b[0m\n",
            "\u001b[0;31mTypeError\u001b[0m: 'set' object is not callable"
          ]
        }
      ]
    }
  ]
}